{
 "cells": [
  {
   "cell_type": "code",
   "execution_count": 42,
   "metadata": {},
   "outputs": [],
   "source": [
    "import requests\n",
    "import json\n",
    "import time\n",
    "import sqlite3\n",
    "import pandas as pd\n",
    "import matplotlib.pyplot as plt\n",
    "%matplotlib inline"
   ]
  },
  {
   "cell_type": "markdown",
   "metadata": {},
   "source": [
    "# 0. Consulta"
   ]
  },
  {
   "cell_type": "code",
   "execution_count": 2,
   "metadata": {},
   "outputs": [],
   "source": [
    "registro_i = requests.get(\"https://www.boliviasegura.gob.bo/wp-content/json/api.php\")"
   ]
  },
  {
   "cell_type": "code",
   "execution_count": 3,
   "metadata": {},
   "outputs": [],
   "source": [
    "registro_i_json = registro_i.json()\n",
    "# Elementos en fecha de entrada\n",
    "# ['fecha', 'departamento', 'contador', 'total', 'porcentaje']"
   ]
  },
  {
   "cell_type": "code",
   "execution_count": 66,
   "metadata": {},
   "outputs": [],
   "source": [
    "with open(\"20200423.json\",\"r\") as json_arch : \n",
    "    registro_i_json = json.load(json_arch)"
   ]
  },
  {
   "cell_type": "code",
   "execution_count": 67,
   "metadata": {
    "scrolled": true
   },
   "outputs": [
    {
     "data": {
      "text/plain": [
       "'23/04/20 20:57'"
      ]
     },
     "execution_count": 67,
     "metadata": {},
     "output_type": "execute_result"
    }
   ],
   "source": [
    "registro_i_json[\"fecha\"] # retroceder un día"
   ]
  },
  {
   "cell_type": "code",
   "execution_count": 68,
   "metadata": {},
   "outputs": [],
   "source": [
    "#with open('{}.json'.format(pd.to_datetime(registro_i_json[\"fecha\"]).strftime(\"%Y%m%d\")), 'w') as outfile:\n",
    "#    json.dump(registro_i_json, outfile)"
   ]
  },
  {
   "cell_type": "markdown",
   "metadata": {},
   "source": [
    "## 1. Parseo del imput para cifras acumuladas"
   ]
  },
  {
   "cell_type": "markdown",
   "metadata": {},
   "source": [
    "### Por departamentos"
   ]
  },
  {
   "cell_type": "code",
   "execution_count": 69,
   "metadata": {
    "scrolled": true
   },
   "outputs": [
    {
     "data": {
      "text/html": [
       "<div>\n",
       "<style scoped>\n",
       "    .dataframe tbody tr th:only-of-type {\n",
       "        vertical-align: middle;\n",
       "    }\n",
       "\n",
       "    .dataframe tbody tr th {\n",
       "        vertical-align: top;\n",
       "    }\n",
       "\n",
       "    .dataframe thead th {\n",
       "        text-align: right;\n",
       "    }\n",
       "</style>\n",
       "<table border=\"1\" class=\"dataframe\">\n",
       "  <thead>\n",
       "    <tr style=\"text-align: right;\">\n",
       "      <th></th>\n",
       "      <th>depto</th>\n",
       "      <th>confirmados</th>\n",
       "      <th>decesos</th>\n",
       "      <th>recuperados</th>\n",
       "      <th>sospechosos</th>\n",
       "      <th>descartados</th>\n",
       "      <th>total</th>\n",
       "      <th>fecha</th>\n",
       "      <th>activos</th>\n",
       "    </tr>\n",
       "  </thead>\n",
       "  <tbody>\n",
       "    <tr>\n",
       "      <th>0</th>\n",
       "      <td>LP</td>\n",
       "      <td>150</td>\n",
       "      <td>13</td>\n",
       "      <td>9</td>\n",
       "      <td>4</td>\n",
       "      <td>1138</td>\n",
       "      <td>1314</td>\n",
       "      <td>2020-04-23</td>\n",
       "      <td>128</td>\n",
       "    </tr>\n",
       "    <tr>\n",
       "      <th>1</th>\n",
       "      <td>CB</td>\n",
       "      <td>66</td>\n",
       "      <td>6</td>\n",
       "      <td>13</td>\n",
       "      <td>0</td>\n",
       "      <td>859</td>\n",
       "      <td>944</td>\n",
       "      <td>2020-04-23</td>\n",
       "      <td>47</td>\n",
       "    </tr>\n",
       "    <tr>\n",
       "      <th>2</th>\n",
       "      <td>SC</td>\n",
       "      <td>385</td>\n",
       "      <td>19</td>\n",
       "      <td>14</td>\n",
       "      <td>0</td>\n",
       "      <td>1674</td>\n",
       "      <td>2092</td>\n",
       "      <td>2020-04-23</td>\n",
       "      <td>352</td>\n",
       "    </tr>\n",
       "    <tr>\n",
       "      <th>3</th>\n",
       "      <td>OR</td>\n",
       "      <td>62</td>\n",
       "      <td>2</td>\n",
       "      <td>8</td>\n",
       "      <td>0</td>\n",
       "      <td>251</td>\n",
       "      <td>323</td>\n",
       "      <td>2020-04-23</td>\n",
       "      <td>52</td>\n",
       "    </tr>\n",
       "    <tr>\n",
       "      <th>4</th>\n",
       "      <td>PT</td>\n",
       "      <td>21</td>\n",
       "      <td>1</td>\n",
       "      <td>0</td>\n",
       "      <td>20</td>\n",
       "      <td>103</td>\n",
       "      <td>145</td>\n",
       "      <td>2020-04-23</td>\n",
       "      <td>20</td>\n",
       "    </tr>\n",
       "    <tr>\n",
       "      <th>5</th>\n",
       "      <td>TJ</td>\n",
       "      <td>3</td>\n",
       "      <td>0</td>\n",
       "      <td>0</td>\n",
       "      <td>3</td>\n",
       "      <td>36</td>\n",
       "      <td>42</td>\n",
       "      <td>2020-04-23</td>\n",
       "      <td>3</td>\n",
       "    </tr>\n",
       "    <tr>\n",
       "      <th>6</th>\n",
       "      <td>CH</td>\n",
       "      <td>2</td>\n",
       "      <td>0</td>\n",
       "      <td>0</td>\n",
       "      <td>1</td>\n",
       "      <td>115</td>\n",
       "      <td>118</td>\n",
       "      <td>2020-04-23</td>\n",
       "      <td>2</td>\n",
       "    </tr>\n",
       "    <tr>\n",
       "      <th>7</th>\n",
       "      <td>BN</td>\n",
       "      <td>2</td>\n",
       "      <td>1</td>\n",
       "      <td>0</td>\n",
       "      <td>0</td>\n",
       "      <td>46</td>\n",
       "      <td>49</td>\n",
       "      <td>2020-04-23</td>\n",
       "      <td>1</td>\n",
       "    </tr>\n",
       "    <tr>\n",
       "      <th>8</th>\n",
       "      <td>PN</td>\n",
       "      <td>12</td>\n",
       "      <td>1</td>\n",
       "      <td>0</td>\n",
       "      <td>1</td>\n",
       "      <td>70</td>\n",
       "      <td>84</td>\n",
       "      <td>2020-04-23</td>\n",
       "      <td>11</td>\n",
       "    </tr>\n",
       "  </tbody>\n",
       "</table>\n",
       "</div>"
      ],
      "text/plain": [
       "  depto  confirmados  decesos  recuperados  sospechosos  descartados  total  \\\n",
       "0    LP          150       13            9            4         1138   1314   \n",
       "1    CB           66        6           13            0          859    944   \n",
       "2    SC          385       19           14            0         1674   2092   \n",
       "3    OR           62        2            8            0          251    323   \n",
       "4    PT           21        1            0           20          103    145   \n",
       "5    TJ            3        0            0            3           36     42   \n",
       "6    CH            2        0            0            1          115    118   \n",
       "7    BN            2        1            0            0           46     49   \n",
       "8    PN           12        1            0            1           70     84   \n",
       "\n",
       "        fecha  activos  \n",
       "0  2020-04-23      128  \n",
       "1  2020-04-23       47  \n",
       "2  2020-04-23      352  \n",
       "3  2020-04-23       52  \n",
       "4  2020-04-23       20  \n",
       "5  2020-04-23        3  \n",
       "6  2020-04-23        2  \n",
       "7  2020-04-23        1  \n",
       "8  2020-04-23       11  "
      ]
     },
     "execution_count": 69,
     "metadata": {},
     "output_type": "execute_result"
    }
   ],
   "source": [
    "day_i = {}\n",
    "for key, value in registro_i_json[\"departamento\"].items()  :\n",
    "    val_j =  value[\"contador\"]\n",
    "    val_j[\"total\"]  = value[\"total\"] \n",
    "    day_i[key] = val_j\n",
    "\n",
    "df_day_i = pd.DataFrame(day_i).T.rename_axis([\"depto\"]).reset_index()\n",
    "df_day_i[\"fecha\"] = pd.to_datetime(registro_i_json[\"fecha\"]).strftime(\"%Y-%m-%d\")\n",
    "df_day_i[\"depto\"] = df_day_i[\"depto\"].str.upper()\n",
    "df_day_i[\"activos\"] = df_day_i.confirmados - df_day_i.decesos - df_day_i.recuperados\n",
    "df_day_i"
   ]
  },
  {
   "cell_type": "markdown",
   "metadata": {},
   "source": [
    "### A nivel nacional"
   ]
  },
  {
   "cell_type": "code",
   "execution_count": 70,
   "metadata": {
    "scrolled": true
   },
   "outputs": [
    {
     "data": {
      "text/plain": [
       "confirmados           703\n",
       "decesos                43\n",
       "recuperados            44\n",
       "sospechosos            29\n",
       "descartados          4292\n",
       "total                5111\n",
       "fecha          2020-04-23\n",
       "depto                 BOL\n",
       "activos               616\n",
       "dtype: object"
      ]
     },
     "execution_count": 70,
     "metadata": {},
     "output_type": "execute_result"
    }
   ],
   "source": [
    "bol_i = registro_i_json[\"contador\"]\n",
    "bol_i[\"total\"] = registro_i_json[\"total\"]\n",
    "\n",
    "sr_bol_i = pd.Series(bol_i)\n",
    "sr_bol_i[\"fecha\"] = pd.to_datetime(registro_i_json[\"fecha\"]).strftime(\"%Y-%m-%d\")\n",
    "sr_bol_i[\"depto\"] = \"BOL\"\n",
    "sr_bol_i[\"activos\"] = sr_bol_i.confirmados - sr_bol_i.decesos - sr_bol_i.recuperados\n",
    "sr_bol_i\n"
   ]
  },
  {
   "cell_type": "markdown",
   "metadata": {},
   "source": [
    "# 2. Calculando variaciones"
   ]
  },
  {
   "cell_type": "code",
   "execution_count": 71,
   "metadata": {},
   "outputs": [],
   "source": [
    "conn = sqlite3.connect('BD_COVID19_BOL.sqlite')\n",
    "cur = conn.cursor()\n",
    "\n",
    "valores = [j.to_list() for i,j  in df_day_i.iterrows()]\n",
    "cur.executemany(\"\"\"INSERT INTO daily_covid19_BO(daily_depto\n",
    ",daily_total_confirmados\n",
    ",daily_total_decesos\n",
    ",daily_total_recuperados\n",
    ",daily_total_sospechosos\n",
    ",daily_total_descartados\n",
    ",daily_total_total\n",
    ",daily_fecha\n",
    ",daily_total_activos) VALUES (?,?,?,?,?,?,?,?,?);\"\"\", valores)\n",
    "conn.commit()\n",
    "conn.close()\n"
   ]
  },
  {
   "cell_type": "markdown",
   "metadata": {},
   "source": [
    "### Extrayendo el acumulado del día anterior"
   ]
  },
  {
   "cell_type": "code",
   "execution_count": 72,
   "metadata": {},
   "outputs": [],
   "source": [
    "# Extraer de base de datos los elememtos del día anterior para obtener las variaciones"
   ]
  },
  {
   "cell_type": "code",
   "execution_count": 73,
   "metadata": {},
   "outputs": [
    {
     "data": {
      "text/plain": [
       "'2020-04-23'"
      ]
     },
     "execution_count": 73,
     "metadata": {},
     "output_type": "execute_result"
    }
   ],
   "source": [
    "fecha_actualizacion = pd.to_datetime(registro_i_json[\"fecha\"]).strftime(\"%Y-%m-%d\")\n",
    "fecha_actualizacion"
   ]
  },
  {
   "cell_type": "code",
   "execution_count": 114,
   "metadata": {},
   "outputs": [],
   "source": [
    "fecha_actualizacion = '2020-04-21'"
   ]
  },
  {
   "cell_type": "code",
   "execution_count": 115,
   "metadata": {},
   "outputs": [],
   "source": [
    "conn = sqlite3.connect('BD_COVID19_BOL.sqlite')\n",
    "\n",
    "df_t_1 = pd.read_sql_query(\"\"\"select * \n",
    "from daily_covid19_BO\n",
    "where daily_fecha = strftime('%Y-%m-%d',date('{fecha_consulta}', '-1 day'))\n",
    "order by daily_depto \"\"\".format(fecha_consulta = fecha_actualizacion), conn)\n",
    "\n",
    "df_t = pd.read_sql_query(\"\"\"select * \n",
    "from daily_covid19_BO\n",
    "where daily_fecha = '{fecha_consulta}'\n",
    "order by daily_depto \"\"\".format(fecha_consulta = fecha_actualizacion), conn)\n",
    "\n",
    "\n",
    "conn.close()\n",
    "\n",
    "\n",
    "delta = df_t[[  'daily_total_confirmados', 'daily_total_activos',\n",
    "       'daily_total_decesos', 'daily_total_recuperados',\n",
    "       'daily_total_sospechosos', 'daily_total_descartados',\n",
    "       'daily_total_total']].values -   df_t_1[[  'daily_total_confirmados', 'daily_total_activos',\n",
    "       'daily_total_decesos', 'daily_total_recuperados',\n",
    "       'daily_total_sospechosos', 'daily_total_descartados',\n",
    "       'daily_total_total']].values\n",
    "\n",
    "delta_df = pd.DataFrame(delta , columns=['daily_delta_confirmados',\n",
    "'daily_delta_activos', 'daily_delta_decesos', 'daily_delta_recuperados',\n",
    "'daily_delta_sospechosos', 'daily_delta_descartados',\n",
    "'daily_delta_total'])\n",
    "\n",
    "delta_df[['daily_id', 'daily_fecha', 'daily_depto']] = df_t[['daily_id', 'daily_fecha', 'daily_depto']]\n",
    "\n",
    "valores_delta = [j.to_list() for i,j  in delta_df.iterrows()]\n",
    "\n",
    "conn = sqlite3.connect('BD_COVID19_BOL.sqlite')\n",
    "cur = conn.cursor()\n",
    "\n",
    "for val_i in valores_delta : \n",
    "    cur.execute(\"\"\"UPDATE  daily_covid19_BO\n",
    "    SET   daily_delta_confirmados = {0}\n",
    "    , daily_delta_activos     =     {1} \n",
    "    , daily_delta_decesos     =     {2}\n",
    "    , daily_delta_recuperados =  {3}\n",
    "    , daily_delta_sospechosos =   {4}\n",
    "    , daily_delta_descartados =   {5}\n",
    "    , daily_delta_total       =   {6}                   \n",
    "    where daily_id = {7}\n",
    "    and daily_fecha = '{8}'\n",
    "    and daily_depto = '{9}'  \"\"\".format(*val_i))\n",
    "conn.commit()\n",
    "conn.close()"
   ]
  }
 ],
 "metadata": {
  "kernelspec": {
   "display_name": "Python 3",
   "language": "python",
   "name": "python3"
  },
  "language_info": {
   "codemirror_mode": {
    "name": "ipython",
    "version": 3
   },
   "file_extension": ".py",
   "mimetype": "text/x-python",
   "name": "python",
   "nbconvert_exporter": "python",
   "pygments_lexer": "ipython3",
   "version": "3.6.3"
  }
 },
 "nbformat": 4,
 "nbformat_minor": 2
}
