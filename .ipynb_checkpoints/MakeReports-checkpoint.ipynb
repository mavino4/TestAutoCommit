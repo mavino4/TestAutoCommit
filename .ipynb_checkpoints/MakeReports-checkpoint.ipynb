{
 "cells": [
  {
   "cell_type": "code",
   "execution_count": 1,
   "metadata": {},
   "outputs": [],
   "source": [
    "import requests\n",
    "import json\n",
    "import os\n",
    "import time\n",
    "import sqlite3\n",
    "import pandas as pd"
   ]
  },
  {
   "cell_type": "code",
   "execution_count": 3,
   "metadata": {},
   "outputs": [],
   "source": [
    "report_date = \"2020-04-24\""
   ]
  },
  {
   "cell_type": "code",
   "execution_count": 4,
   "metadata": {},
   "outputs": [],
   "source": [
    "conn = sqlite3.connect('BD_COVID19_BOL.sqlite')\n",
    "\n",
    "df_t = pd.read_sql_query(\"\"\"select * \n",
    "from daily_covid19_BO\n",
    "where daily_fecha = '{fecha_consulta}'\n",
    "order by daily_depto \"\"\".format(fecha_consulta = report_date), conn)\n",
    "\n",
    "\n",
    "conn.close()\n",
    "\n",
    "df_t[['daily_fecha', 'daily_depto', 'daily_total_confirmados', 'daily_total_activos',\n",
    "       'daily_total_decesos', 'daily_total_recuperados',\n",
    "       'daily_total_sospechosos', 'daily_total_descartados',\n",
    "       'daily_total_total']].to_csv(\"{}.csv\".format(report_date),index=False)\n",
    "\n",
    "# Confirmed \tDeaths \tRecovered \tActive\n",
    "\n",
    "conn = sqlite3.connect('BD_COVID19_BOL.sqlite')\n",
    "\n",
    "time_series = pd.read_sql_query(\"\"\"select daily_fecha, daily_depto,\n",
    "daily_total_confirmados, daily_total_activos,\n",
    "daily_total_decesos, daily_total_recuperados,\n",
    "daily_total_sospechosos, daily_total_descartados,\n",
    "daily_total_total\n",
    "from daily_covid19_BO\n",
    "order by daily_depto \"\"\".format(fecha_consulta = report_date), conn)\n",
    "\n",
    "\n",
    "conn.close()\n",
    "\n",
    "time_series\n",
    "confirmados_ts = pd.pivot(time_series,\"daily_depto\",\"daily_fecha\",\"daily_total_confirmados\").reset_index()\n",
    "activos_ts     = pd.pivot(time_series,\"daily_depto\",\"daily_fecha\",\"daily_total_activos\").reset_index()\n",
    "decesos_ts     = pd.pivot(time_series,\"daily_depto\",\"daily_fecha\",\"daily_total_decesos\").reset_index()\n",
    "recuperados_ts = pd.pivot(time_series,\"daily_depto\",\"daily_fecha\",\"daily_total_recuperados\").reset_index()\n",
    "\n",
    "confirmados_ts.to_csv(\"time_series_covid19_confirmados_BO.csv\",index=False)\n",
    "activos_ts.to_csv(\"time_series_covid19_activos_BO.csv\",index=False)\n",
    "decesos_ts.to_csv(\"time_series_covid19_decesos_BO.csv\",index=False)\n",
    "recuperados_ts.to_csv(\"time_series_covid19_recuperados_BO.csv\",index=False)"
   ]
  },
  {
   "cell_type": "code",
   "execution_count": null,
   "metadata": {},
   "outputs": [],
   "source": []
  }
 ],
 "metadata": {
  "kernelspec": {
   "display_name": "Python 3",
   "language": "python",
   "name": "python3"
  },
  "language_info": {
   "codemirror_mode": {
    "name": "ipython",
    "version": 3
   },
   "file_extension": ".py",
   "mimetype": "text/x-python",
   "name": "python",
   "nbconvert_exporter": "python",
   "pygments_lexer": "ipython3",
   "version": "3.6.3"
  }
 },
 "nbformat": 4,
 "nbformat_minor": 2
}
