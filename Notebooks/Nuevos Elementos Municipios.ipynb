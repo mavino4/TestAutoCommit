{
 "cells": [
  {
   "cell_type": "code",
   "execution_count": 42,
   "metadata": {},
   "outputs": [],
   "source": [
    "import requests\n",
    "import json\n",
    "import time\n",
    "import numpy as np \n",
    "import sqlite3\n",
    "import pandas as pd\n",
    "from tqdm.notebook import tqdm\n",
    "from bs4 import BeautifulSoup"
   ]
  },
  {
   "cell_type": "markdown",
   "metadata": {},
   "source": [
    "# 0. Consulta Mapa Actualizado "
   ]
  },
  {
   "cell_type": "code",
   "execution_count": 148,
   "metadata": {},
   "outputs": [],
   "source": [
    "A = requests.get(\"https://www.boliviasegura.gob.bo\")\n",
    "page = BeautifulSoup(A.text, 'html.parser')\n",
    "iframe = page.find_all(\"iframe\")[0]\n",
    "\n",
    "iframe.attrs[\"src\"]"
   ]
  },
  {
   "cell_type": "code",
   "execution_count": 150,
   "metadata": {},
   "outputs": [],
   "source": [
    "from selenium import webdriver\n",
    "import re"
   ]
  },
  {
   "cell_type": "code",
   "execution_count": 161,
   "metadata": {},
   "outputs": [
    {
     "name": "stdout",
     "output_type": "stream",
     "text": [
      "293a2875@a60cb7b38355a207a67a1ea6c9152373:1588040459439\n"
     ]
    }
   ],
   "source": [
    "browser = webdriver.Firefox()\n",
    "browser.get(iframe.attrs[\"src\"])\n",
    "\n",
    "A = browser.find_element_by_tag_name(\"img\")\n",
    "\n",
    "time.sleep(2)\n",
    "lista_dir = []\n",
    "for img in browser.find_elements_by_tag_name(\"img\"):\n",
    "    lista_dir = lista_dir + re.findall(\".*juliael@(.*)/\\d,\", img.get_attribute(\"src\"))\n",
    "\n",
    "mapa_id = np.unique(np.array(lista_dir))[0] # Todos las rutas deberìan referenciar al mismo mapa \n",
    "print(mapa_id)\n",
    "browser.close()"
   ]
  },
  {
   "cell_type": "code",
   "execution_count": 162,
   "metadata": {},
   "outputs": [
    {
     "data": {
      "text/plain": [
       "49"
      ]
     },
     "execution_count": 162,
     "metadata": {},
     "output_type": "execute_result"
    }
   ],
   "source": [
    "nro_mun = requests.get(\"https://cartocdn-gusc-a.global.ssl.fastly.net/juliael/api/v1/map/juliael@{mapa_id}/dataview/eac18df0-661c-4c8f-a7c6-532c7ed3b5bf\".format(mapa_id=mapa_id))\n",
    "nro_mun.json()[\"count\"]"
   ]
  },
  {
   "cell_type": "code",
   "execution_count": 160,
   "metadata": {},
   "outputs": [],
   "source": [
    "# Si existe un nuevo mapa se lo consulta"
   ]
  },
  {
   "cell_type": "markdown",
   "metadata": {},
   "source": [
    "# 1. Consulta MUNICIPIOS"
   ]
  },
  {
   "cell_type": "code",
   "execution_count": 136,
   "metadata": {},
   "outputs": [
    {
     "data": {
      "application/vnd.jupyter.widget-view+json": {
       "model_id": "cb2a72fc541f4ba09679aaa671054337"
      }
     },
     "metadata": {},
     "output_type": "display_data"
    },
    {
     "name": "stdout",
     "output_type": "stream",
     "text": [
      "\n"
     ]
    }
   ],
   "source": [
    "responses = []\n",
    "for i in tqdm(range(400)):\n",
    "    registro_i = requests.get(\"https://cartocdn-gusc-c.global.ssl.fastly.net/juliael/api/v1/map/juliael@{mapa_id}/4/attributes/{mun_id}\".format(mapa_id = mapa_id, mun_id= i))\n",
    "    responses.append([i, registro_i.headers[\"Date\"] , registro_i])\n",
    "    time.sleep(0.5)\n",
    "\n",
    "VALUES = {}\n",
    "for response_i in responses: \n",
    "    if response_i[2].ok:\n",
    "        dict_i = {}\n",
    "        dict_i[\"date_get\"] =  response_i[1]\n",
    "        dict_i.update(response_i[2].json())\n",
    "        VALUES[str(response_i[0])] = dict_i\n",
    "\n",
    "VALUES.keys()\n",
    "\n",
    "CONSULTA_i = pd.DataFrame(VALUES).T.reset_index()\n",
    "CONSULTA_i[\"date_get\"] = pd.to_datetime(CONSULTA_i.date_get)\n",
    "CONSULTA_i.fillna(value=0, inplace=True)\n",
    "CONSULTA_i[\"activos\"] = CONSULTA_i.positivos - CONSULTA_i.decesos - CONSULTA_i.recuperados\n",
    "\n",
    "CONSULTA_i.to_csv(\"{} Municipios.csv\".format(CONSULTA_i.date_get.max().strftime(\"%Y-%m-%d %H:%M\")),index=False)\n",
    "\n"
   ]
  }
 ],
 "metadata": {
  "kernelspec": {
   "display_name": "Python 3",
   "language": "python",
   "name": "python3"
  },
  "language_info": {
   "codemirror_mode": {
    "name": "ipython",
    "version": 3
   },
   "file_extension": ".py",
   "mimetype": "text/x-python",
   "name": "python",
   "nbconvert_exporter": "python",
   "pygments_lexer": "ipython3",
   "version": "3.6.9"
  }
 },
 "nbformat": 4,
 "nbformat_minor": 2
}
