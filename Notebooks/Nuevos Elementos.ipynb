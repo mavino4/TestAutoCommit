{
 "cells": [
  {
   "cell_type": "code",
   "execution_count": 2,
   "metadata": {},
   "outputs": [],
   "source": [
    "import requests\n",
    "import json\n",
    "import time\n",
    "import sqlite3\n",
    "import pandas as pd"
   ]
  },
  {
   "cell_type": "markdown",
   "metadata": {},
   "source": [
    "# 0. Consulta"
   ]
  },
  {
   "cell_type": "code",
   "execution_count": 3,
   "metadata": {},
   "outputs": [],
   "source": [
    "registro_i = requests.get(\"https://www.boliviasegura.gob.bo/wp-content/json/api.php\")"
   ]
  },
  {
   "cell_type": "code",
   "execution_count": 4,
   "metadata": {},
   "outputs": [],
   "source": [
    "registro_i_json = registro_i.json()\n",
    "# Elementos en fecha de entrada\n",
    "# ['fecha', 'departamento', 'contador', 'total', 'porcentaje']"
   ]
  },
  {
   "cell_type": "code",
   "execution_count": 66,
   "metadata": {},
   "outputs": [],
   "source": [
    "#with open(\"20200424.json\",\"r\") as json_arch : \n",
    "#    registro_i_json = json.load(json_arch)"
   ]
  },
  {
   "cell_type": "code",
   "execution_count": 5,
   "metadata": {
    "scrolled": true
   },
   "outputs": [
    {
     "data": {
      "text/plain": [
       "'24/04/20 20:59'"
      ]
     },
     "execution_count": 5,
     "metadata": {},
     "output_type": "execute_result"
    }
   ],
   "source": [
    "registro_i_json[\"fecha\"] # retroceder un día"
   ]
  },
  {
   "cell_type": "code",
   "execution_count": 6,
   "metadata": {},
   "outputs": [],
   "source": [
    "with open('{}.json'.format(pd.to_datetime(registro_i_json[\"fecha\"]).strftime(\"%Y%m%d\")), 'w') as outfile:\n",
    "    json.dump(registro_i_json, outfile)"
   ]
  },
  {
   "cell_type": "markdown",
   "metadata": {},
   "source": [
    "## 1. Parseo del imput para cifras acumuladas"
   ]
  },
  {
   "cell_type": "markdown",
   "metadata": {},
   "source": [
    "### Por departamentos"
   ]
  },
  {
   "cell_type": "code",
   "execution_count": 7,
   "metadata": {
    "scrolled": true
   },
   "outputs": [
    {
     "data": {
      "text/html": [
       "<div>\n",
       "<style scoped>\n",
       "    .dataframe tbody tr th:only-of-type {\n",
       "        vertical-align: middle;\n",
       "    }\n",
       "\n",
       "    .dataframe tbody tr th {\n",
       "        vertical-align: top;\n",
       "    }\n",
       "\n",
       "    .dataframe thead th {\n",
       "        text-align: right;\n",
       "    }\n",
       "</style>\n",
       "<table border=\"1\" class=\"dataframe\">\n",
       "  <thead>\n",
       "    <tr style=\"text-align: right;\">\n",
       "      <th></th>\n",
       "      <th>depto</th>\n",
       "      <th>confirmados</th>\n",
       "      <th>decesos</th>\n",
       "      <th>recuperados</th>\n",
       "      <th>sospechosos</th>\n",
       "      <th>descartados</th>\n",
       "      <th>total</th>\n",
       "      <th>fecha</th>\n",
       "      <th>activos</th>\n",
       "    </tr>\n",
       "  </thead>\n",
       "  <tbody>\n",
       "    <tr>\n",
       "      <th>0</th>\n",
       "      <td>LP</td>\n",
       "      <td>155</td>\n",
       "      <td>14</td>\n",
       "      <td>13</td>\n",
       "      <td>4</td>\n",
       "      <td>1168</td>\n",
       "      <td>1354</td>\n",
       "      <td>2020-04-24</td>\n",
       "      <td>128</td>\n",
       "    </tr>\n",
       "    <tr>\n",
       "      <th>1</th>\n",
       "      <td>CB</td>\n",
       "      <td>70</td>\n",
       "      <td>6</td>\n",
       "      <td>13</td>\n",
       "      <td>0</td>\n",
       "      <td>900</td>\n",
       "      <td>989</td>\n",
       "      <td>2020-04-24</td>\n",
       "      <td>51</td>\n",
       "    </tr>\n",
       "    <tr>\n",
       "      <th>2</th>\n",
       "      <td>SC</td>\n",
       "      <td>446</td>\n",
       "      <td>19</td>\n",
       "      <td>14</td>\n",
       "      <td>0</td>\n",
       "      <td>1786</td>\n",
       "      <td>2265</td>\n",
       "      <td>2020-04-24</td>\n",
       "      <td>413</td>\n",
       "    </tr>\n",
       "    <tr>\n",
       "      <th>3</th>\n",
       "      <td>OR</td>\n",
       "      <td>65</td>\n",
       "      <td>2</td>\n",
       "      <td>8</td>\n",
       "      <td>0</td>\n",
       "      <td>258</td>\n",
       "      <td>333</td>\n",
       "      <td>2020-04-24</td>\n",
       "      <td>55</td>\n",
       "    </tr>\n",
       "    <tr>\n",
       "      <th>4</th>\n",
       "      <td>PT</td>\n",
       "      <td>21</td>\n",
       "      <td>1</td>\n",
       "      <td>0</td>\n",
       "      <td>11</td>\n",
       "      <td>103</td>\n",
       "      <td>136</td>\n",
       "      <td>2020-04-24</td>\n",
       "      <td>20</td>\n",
       "    </tr>\n",
       "    <tr>\n",
       "      <th>5</th>\n",
       "      <td>TJ</td>\n",
       "      <td>3</td>\n",
       "      <td>0</td>\n",
       "      <td>0</td>\n",
       "      <td>7</td>\n",
       "      <td>36</td>\n",
       "      <td>46</td>\n",
       "      <td>2020-04-24</td>\n",
       "      <td>3</td>\n",
       "    </tr>\n",
       "    <tr>\n",
       "      <th>6</th>\n",
       "      <td>CH</td>\n",
       "      <td>2</td>\n",
       "      <td>0</td>\n",
       "      <td>0</td>\n",
       "      <td>3</td>\n",
       "      <td>115</td>\n",
       "      <td>120</td>\n",
       "      <td>2020-04-24</td>\n",
       "      <td>2</td>\n",
       "    </tr>\n",
       "    <tr>\n",
       "      <th>7</th>\n",
       "      <td>BN</td>\n",
       "      <td>33</td>\n",
       "      <td>1</td>\n",
       "      <td>0</td>\n",
       "      <td>40</td>\n",
       "      <td>53</td>\n",
       "      <td>127</td>\n",
       "      <td>2020-04-24</td>\n",
       "      <td>32</td>\n",
       "    </tr>\n",
       "    <tr>\n",
       "      <th>8</th>\n",
       "      <td>PN</td>\n",
       "      <td>12</td>\n",
       "      <td>1</td>\n",
       "      <td>6</td>\n",
       "      <td>2</td>\n",
       "      <td>71</td>\n",
       "      <td>92</td>\n",
       "      <td>2020-04-24</td>\n",
       "      <td>5</td>\n",
       "    </tr>\n",
       "  </tbody>\n",
       "</table>\n",
       "</div>"
      ],
      "text/plain": [
       "  depto  confirmados  decesos  recuperados  sospechosos  descartados  total  \\\n",
       "0    LP          155       14           13            4         1168   1354   \n",
       "1    CB           70        6           13            0          900    989   \n",
       "2    SC          446       19           14            0         1786   2265   \n",
       "3    OR           65        2            8            0          258    333   \n",
       "4    PT           21        1            0           11          103    136   \n",
       "5    TJ            3        0            0            7           36     46   \n",
       "6    CH            2        0            0            3          115    120   \n",
       "7    BN           33        1            0           40           53    127   \n",
       "8    PN           12        1            6            2           71     92   \n",
       "\n",
       "        fecha  activos  \n",
       "0  2020-04-24      128  \n",
       "1  2020-04-24       51  \n",
       "2  2020-04-24      413  \n",
       "3  2020-04-24       55  \n",
       "4  2020-04-24       20  \n",
       "5  2020-04-24        3  \n",
       "6  2020-04-24        2  \n",
       "7  2020-04-24       32  \n",
       "8  2020-04-24        5  "
      ]
     },
     "execution_count": 7,
     "metadata": {},
     "output_type": "execute_result"
    }
   ],
   "source": [
    "day_i = {}\n",
    "for key, value in registro_i_json[\"departamento\"].items()  :\n",
    "    val_j =  value[\"contador\"]\n",
    "    val_j[\"total\"]  = value[\"total\"] \n",
    "    day_i[key] = val_j\n",
    "\n",
    "df_day_i = pd.DataFrame(day_i).T.rename_axis([\"depto\"]).reset_index()\n",
    "df_day_i[\"fecha\"] = pd.to_datetime(registro_i_json[\"fecha\"]).strftime(\"%Y-%m-%d\")\n",
    "df_day_i[\"depto\"] = df_day_i[\"depto\"].str.upper()\n",
    "df_day_i[\"activos\"] = df_day_i.confirmados - df_day_i.decesos - df_day_i.recuperados\n",
    "df_day_i"
   ]
  },
  {
   "cell_type": "markdown",
   "metadata": {},
   "source": [
    "### A nivel nacional"
   ]
  },
  {
   "cell_type": "code",
   "execution_count": 8,
   "metadata": {
    "scrolled": true
   },
   "outputs": [
    {
     "data": {
      "text/plain": [
       "confirmados           807\n",
       "decesos                44\n",
       "recuperados            54\n",
       "sospechosos            67\n",
       "descartados          4490\n",
       "total                5462\n",
       "fecha          2020-04-24\n",
       "depto                 BOL\n",
       "activos               709\n",
       "dtype: object"
      ]
     },
     "execution_count": 8,
     "metadata": {},
     "output_type": "execute_result"
    }
   ],
   "source": [
    "bol_i = registro_i_json[\"contador\"]\n",
    "bol_i[\"total\"] = registro_i_json[\"total\"]\n",
    "\n",
    "sr_bol_i = pd.Series(bol_i)\n",
    "sr_bol_i[\"fecha\"] = pd.to_datetime(registro_i_json[\"fecha\"]).strftime(\"%Y-%m-%d\")\n",
    "sr_bol_i[\"depto\"] = \"BOL\"\n",
    "sr_bol_i[\"activos\"] = sr_bol_i.confirmados - sr_bol_i.decesos - sr_bol_i.recuperados\n",
    "sr_bol_i\n"
   ]
  },
  {
   "cell_type": "markdown",
   "metadata": {},
   "source": [
    "# 2. Calculando variaciones"
   ]
  },
  {
   "cell_type": "code",
   "execution_count": 9,
   "metadata": {},
   "outputs": [],
   "source": [
    "valores = [j.to_list() for i,j  in df_day_i.iterrows()]\n"
   ]
  },
  {
   "cell_type": "code",
   "execution_count": 15,
   "metadata": {},
   "outputs": [
    {
     "data": {
      "text/plain": [
       "Index(['depto', 'confirmados', 'decesos', 'recuperados', 'sospechosos',\n",
       "       'descartados', 'total', 'fecha', 'activos'],\n",
       "      dtype='object')"
      ]
     },
     "execution_count": 15,
     "metadata": {},
     "output_type": "execute_result"
    }
   ],
   "source": [
    "df_day_i.columns"
   ]
  },
  {
   "cell_type": "code",
   "execution_count": 16,
   "metadata": {},
   "outputs": [],
   "source": [
    "conn = sqlite3.connect('BD_COVID19_BOL.sqlite')\n",
    "cur = conn.cursor()\n",
    "\n",
    "valores = [j.to_list() for i,j  in df_day_i[['depto', 'confirmados', 'decesos', 'recuperados', 'sospechosos',\n",
    "       'descartados', 'total', 'fecha', 'activos']].iterrows()]\n",
    "cur.executemany(\"\"\"INSERT INTO daily_covid19_BO(daily_depto\n",
    ",daily_total_confirmados\n",
    ",daily_total_decesos\n",
    ",daily_total_recuperados\n",
    ",daily_total_sospechosos\n",
    ",daily_total_descartados\n",
    ",daily_total_total\n",
    ",daily_fecha\n",
    ",daily_total_activos) VALUES (?,?,?,?,?,?,?,?,?);\"\"\", valores)\n",
    "conn.commit()\n",
    "conn.close()\n"
   ]
  },
  {
   "cell_type": "markdown",
   "metadata": {},
   "source": [
    "### Extrayendo el acumulado del día anterior"
   ]
  },
  {
   "cell_type": "code",
   "execution_count": 12,
   "metadata": {},
   "outputs": [],
   "source": [
    "# Extraer de base de datos los elememtos del día anterior para obtener las variaciones"
   ]
  },
  {
   "cell_type": "code",
   "execution_count": 17,
   "metadata": {},
   "outputs": [
    {
     "data": {
      "text/plain": [
       "'2020-04-24'"
      ]
     },
     "execution_count": 17,
     "metadata": {},
     "output_type": "execute_result"
    }
   ],
   "source": [
    "fecha_actualizacion = pd.to_datetime(registro_i_json[\"fecha\"]).strftime(\"%Y-%m-%d\")\n",
    "fecha_actualizacion"
   ]
  },
  {
   "cell_type": "code",
   "execution_count": 114,
   "metadata": {},
   "outputs": [],
   "source": [
    "fecha_actualizacion = '2020-04-21'"
   ]
  },
  {
   "cell_type": "code",
   "execution_count": 18,
   "metadata": {},
   "outputs": [
    {
     "ename": "ValueError",
     "evalue": "operands could not be broadcast together with shapes (18,7) (9,7) ",
     "output_type": "error",
     "traceback": [
      "\u001b[0;31m---------------------------------------------------------------------------\u001b[0m",
      "\u001b[0;31mValueError\u001b[0m                                Traceback (most recent call last)",
      "\u001b[0;32m<ipython-input-18-3e88be34d231>\u001b[0m in \u001b[0;36m<module>\u001b[0;34m()\u001b[0m\n\u001b[1;32m     21\u001b[0m        \u001b[0;34m'daily_total_decesos'\u001b[0m\u001b[0;34m,\u001b[0m \u001b[0;34m'daily_total_recuperados'\u001b[0m\u001b[0;34m,\u001b[0m\u001b[0;34m\u001b[0m\u001b[0m\n\u001b[1;32m     22\u001b[0m        \u001b[0;34m'daily_total_sospechosos'\u001b[0m\u001b[0;34m,\u001b[0m \u001b[0;34m'daily_total_descartados'\u001b[0m\u001b[0;34m,\u001b[0m\u001b[0;34m\u001b[0m\u001b[0m\n\u001b[0;32m---> 23\u001b[0;31m        'daily_total_total']].values\n\u001b[0m\u001b[1;32m     24\u001b[0m \u001b[0;34m\u001b[0m\u001b[0m\n\u001b[1;32m     25\u001b[0m delta_df = pd.DataFrame(delta , columns=['daily_delta_confirmados',\n",
      "\u001b[0;31mValueError\u001b[0m: operands could not be broadcast together with shapes (18,7) (9,7) "
     ]
    }
   ],
   "source": [
    "conn = sqlite3.connect('BD_COVID19_BOL.sqlite')\n",
    "\n",
    "df_t_1 = pd.read_sql_query(\"\"\"select * \n",
    "from daily_covid19_BO\n",
    "where daily_fecha = strftime('%Y-%m-%d',date('{fecha_consulta}', '-1 day'))\n",
    "order by daily_depto \"\"\".format(fecha_consulta = fecha_actualizacion), conn)\n",
    "\n",
    "df_t = pd.read_sql_query(\"\"\"select * \n",
    "from daily_covid19_BO\n",
    "where daily_fecha = '{fecha_consulta}'\n",
    "order by daily_depto \"\"\".format(fecha_consulta = fecha_actualizacion), conn)\n",
    "\n",
    "\n",
    "conn.close()\n",
    "\n",
    "\n",
    "delta = df_t[[  'daily_total_confirmados', 'daily_total_activos',\n",
    "       'daily_total_decesos', 'daily_total_recuperados',\n",
    "       'daily_total_sospechosos', 'daily_total_descartados',\n",
    "       'daily_total_total']].values -   df_t_1[[  'daily_total_confirmados', 'daily_total_activos',\n",
    "       'daily_total_decesos', 'daily_total_recuperados',\n",
    "       'daily_total_sospechosos', 'daily_total_descartados',\n",
    "       'daily_total_total']].values\n",
    "\n",
    "delta_df = pd.DataFrame(delta , columns=['daily_delta_confirmados',\n",
    "'daily_delta_activos', 'daily_delta_decesos', 'daily_delta_recuperados',\n",
    "'daily_delta_sospechosos', 'daily_delta_descartados',\n",
    "'daily_delta_total'])\n",
    "\n",
    "delta_df[['daily_id', 'daily_fecha', 'daily_depto']] = df_t[['daily_id', 'daily_fecha', 'daily_depto']]\n",
    "\n",
    "valores_delta = [j.to_list() for i,j  in delta_df.iterrows()]\n",
    "\n",
    "conn = sqlite3.connect('BD_COVID19_BOL.sqlite')\n",
    "cur = conn.cursor()\n",
    "\n",
    "for val_i in valores_delta : \n",
    "    cur.execute(\"\"\"UPDATE  daily_covid19_BO\n",
    "    SET   daily_delta_confirmados = {0}\n",
    "    , daily_delta_activos     =     {1} \n",
    "    , daily_delta_decesos     =     {2}\n",
    "    , daily_delta_recuperados =  {3}\n",
    "    , daily_delta_sospechosos =   {4}\n",
    "    , daily_delta_descartados =   {5}\n",
    "    , daily_delta_total       =   {6}                   \n",
    "    where daily_id = {7}\n",
    "    and daily_fecha = '{8}'\n",
    "    and daily_depto = '{9}'  \"\"\".format(*val_i))\n",
    "conn.commit()\n",
    "conn.close()"
   ]
  },
  {
   "cell_type": "code",
   "execution_count": null,
   "metadata": {},
   "outputs": [],
   "source": []
  }
 ],
 "metadata": {
  "kernelspec": {
   "display_name": "Python 3",
   "language": "python",
   "name": "python3"
  },
  "language_info": {
   "codemirror_mode": {
    "name": "ipython",
    "version": 3
   },
   "file_extension": ".py",
   "mimetype": "text/x-python",
   "name": "python",
   "nbconvert_exporter": "python",
   "pygments_lexer": "ipython3",
   "version": "3.6.9"
  }
 },
 "nbformat": 4,
 "nbformat_minor": 2
}
